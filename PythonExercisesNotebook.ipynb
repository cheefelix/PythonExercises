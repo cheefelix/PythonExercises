{
 "cells": [
  {
   "cell_type": "markdown",
   "metadata": {},
   "source": [
    "### Python Exercises\n",
    "###### Learning the basic of Python programming language through exercise\n",
    "\n",
    "* Questions from http://www.practicepython.org/\n",
    "* 27-Nov-2017\n",
    "\n",
    "\n",
    "* Updated 08-Feb-2018\n"
   ]
  },
  {
   "cell_type": "markdown",
   "metadata": {},
   "source": [
    "### Exercise 1: Character Input\n",
    "\n",
    "Create a program that asks the user to enter their name and their age. Print out a message addressed to them that tells them the year that they will turn 100 years old.\n",
    "\n",
    "Concepts:\n",
    "* Getting user input\n",
    "* Manipulating strings (a few ways)\n"
   ]
  },
  {
   "cell_type": "code",
   "execution_count": 43,
   "metadata": {
    "collapsed": false
   },
   "outputs": [
    {
     "name": "stdout",
     "output_type": "stream",
     "text": [
      "Name : Felix\n",
      "Age : 30\n",
      "Felix, 30 \n",
      "You will turn 100 y.o in 70 years\n",
      "You will turn 100 in the year:  2088\n"
     ]
    }
   ],
   "source": [
    "import time\n",
    "from time import gmtime, strftime\n",
    "\n",
    "name = input('Name : ')\n",
    "age  = input('Age : ')\n",
    "\n",
    "age2 = (100 - int(age))\n",
    "\n",
    "print((name) + ', ' + age + ' ' + '\\n' + 'You will turn 100 y.o in {} years'.format( age2 ) )\n",
    "print ('You will turn {} in the year: '.format(100), int( time.strftime(\"%Y\")) + age2 )"
   ]
  },
  {
   "cell_type": "markdown",
   "metadata": {
    "collapsed": true
   },
   "source": [
    "### Exercise 2: Odd or Even\n",
    "\n",
    "Ask the user for a number. Depending on whether the number is even or odd, print out an appropriate message to the user. Hint: how does an even / odd number react differently when divided by 2?\n",
    "\n",
    "Concepts: \n",
    "\n",
    "* Modular arithmetic (the modulus operator)\n",
    "* Conditionals (if statements)\n",
    "* Checking equality\n"
   ]
  },
  {
   "cell_type": "code",
   "execution_count": 25,
   "metadata": {
    "collapsed": false
   },
   "outputs": [
    {
     "name": "stdout",
     "output_type": "stream",
     "text": [
      "Please input a number: 10\n",
      "10 is an even number!\n"
     ]
    }
   ],
   "source": [
    "number = int ( input('Please input a number: ') )\n",
    "\n",
    "if number % 2 == 0:\n",
    "    print('{} is an even number!'.format(number))\n",
    "    \n",
    "else:\n",
    "    print('{} is an odd number!'.format(number))\n",
    "    "
   ]
  },
  {
   "cell_type": "markdown",
   "metadata": {},
   "source": [
    "bonus\n",
    "\n",
    "* extra:    If the number is a multiple of 4, print out a different message.\n",
    "* extra:    Ask the user for two numbers: one number to check (call it num) and one number to divide by (check). If check divides evenly into num, tell that to the user. If not, print a different appropriate message.\n"
   ]
  },
  {
   "cell_type": "code",
   "execution_count": 15,
   "metadata": {
    "collapsed": false
   },
   "outputs": [
    {
     "name": "stdout",
     "output_type": "stream",
     "text": [
      "Number : 20\n",
      "Checking : 1\n",
      "20 is divisable by 4!\n",
      "20 is divisable by 1\n"
     ]
    }
   ],
   "source": [
    "number = int ( input('Number : ') )\n",
    "check = int ( input('Checking : ') )\n",
    "\n",
    "if number % 4 == 0:\n",
    "    print ('{} is divisable by 4!'.format(number))\n",
    "    \n",
    "elif number % 2 == 0:\n",
    "    print ('{} is an even number'.format(number) )\n",
    "\n",
    "else:\n",
    "    print ('{} is not an even number'.format(number) )\n",
    "\n",
    "\n",
    "if number % check == 0:\n",
    "    print (str(number) + ' is divisable by ' + str(check) )\n",
    "else:\n",
    "    print ('What? Number/Check is odd, like you.')"
   ]
  },
  {
   "cell_type": "markdown",
   "metadata": {},
   "source": [
    "### Exercise 3: List Less Than Ten\n",
    "\n",
    "Take a list, say for example this one:\n",
    "\n",
    "  a = [1, 1, 2, 3, 5, 8, 13, 21, 34, 55, 89]\n",
    "\n",
    "and write a program that prints out all the elements of the list that are less than 5.\n",
    "\n",
    "Concepts:\n",
    "\n",
    "* Lists\n",
    "* More conditionals (if statements)"
   ]
  },
  {
   "cell_type": "code",
   "execution_count": 21,
   "metadata": {
    "collapsed": false
   },
   "outputs": [
    {
     "name": "stdout",
     "output_type": "stream",
     "text": [
      "[1, 1, 2, 3]\n"
     ]
    }
   ],
   "source": [
    "new_list = []\n",
    "\n",
    "for i in a:\n",
    "    if i < 5:\n",
    "        new_list.append(i)\n",
    "print (new_list)"
   ]
  },
  {
   "cell_type": "code",
   "execution_count": 19,
   "metadata": {
    "collapsed": false
   },
   "outputs": [
    {
     "name": "stdout",
     "output_type": "stream",
     "text": [
      "[1, 1, 2, 3]\n"
     ]
    }
   ],
   "source": [
    "# single line\n",
    "\n",
    "a = [1, 1, 2, 3, 5, 8, 13, 21, 34, 55, 89]\n",
    "\n",
    "print ( [ i for i in a if i < 5 ] )"
   ]
  },
  {
   "cell_type": "markdown",
   "metadata": {},
   "source": [
    "### Exercise 4: Divisors\n",
    "\n",
    "Create a program that asks the user for a number and then prints out a list of all the divisors of that number. (If you don’t know what a divisor is, it is a number that divides evenly into another number. For example, 13 is a divisor of 26 because 26 / 13 has no remainder.)"
   ]
  },
  {
   "cell_type": "code",
   "execution_count": 8,
   "metadata": {
    "collapsed": false
   },
   "outputs": [
    {
     "name": "stdout",
     "output_type": "stream",
     "text": [
      "Number : 50\n"
     ]
    },
    {
     "data": {
      "text/plain": [
       "[1, 2, 5, 10, 25, 50]"
      ]
     },
     "execution_count": 8,
     "metadata": {},
     "output_type": "execute_result"
    }
   ],
   "source": [
    "number = int ( input('Number : ') )\n",
    "\n",
    "\n",
    "def check_divisors(number):\n",
    "    a = []\n",
    "    for i in range (1, number + 1):\n",
    "        if number % i == 0 and number >= 0:\n",
    "            a.append(i)   \n",
    "        \n",
    "    return ( a )\n",
    "\n",
    "check_divisors(number)"
   ]
  },
  {
   "cell_type": "markdown",
   "metadata": {},
   "source": [
    "### Exercise 5: List Overlap"
   ]
  },
  {
   "cell_type": "markdown",
   "metadata": {},
   "source": [
    "Take two lists, say for example these two:\n",
    "\n",
    "  a = [1, 1, 2, 3, 5, 8, 13, 21, 34, 55, 89]\n",
    "  \n",
    "  b = [1, 2, 3, 4, 5, 6, 7, 8, 9, 10, 11, 12, 13]\n",
    "\n",
    "and write a program that returns a list that contains only the elements that are common between the lists (without duplicates). Make sure your program works on two lists of different sizes.\n",
    "\n",
    "Extras:\n",
    "* Randomly generate two lists to test this\n",
    "* Write this in one line of Python (don’t worry if you can’t figure this out at this point - we’ll get to it soon)\n",
    "\n"
   ]
  },
  {
   "cell_type": "code",
   "execution_count": 30,
   "metadata": {
    "collapsed": false
   },
   "outputs": [
    {
     "name": "stdout",
     "output_type": "stream",
     "text": [
      "[1, 1, 2, 3, 5, 8, 13]\n"
     ]
    }
   ],
   "source": [
    "a = [1, 1, 2, 3, 5, 8, 13, 21, 34, 55, 89]  \n",
    "b = [1, 2, 3, 4, 5, 6, 7, 8, 9, 10, 11, 12, 13]\n",
    "\n",
    "alist = []\n",
    "\n",
    "for i in a:\n",
    "    for j in b:\n",
    "        if i == j:\n",
    "            alist.append(i)\n",
    "            \n",
    "print (alist)"
   ]
  },
  {
   "cell_type": "markdown",
   "metadata": {},
   "source": [
    "** Extra **\n",
    "\n",
    "concepts:\n",
    "* list(a) - return a into a list\n",
    "* set(a) - prints unique int in list a into a dict\n",
    "* list(set(a)) - return unique dict values into a list\n"
   ]
  },
  {
   "cell_type": "code",
   "execution_count": 60,
   "metadata": {
    "collapsed": false
   },
   "outputs": [
    {
     "name": "stdout",
     "output_type": "stream",
     "text": [
      "[8, 17, 47]\n"
     ]
    }
   ],
   "source": [
    "# one line\n",
    "\n",
    "import random \n",
    "\n",
    "a = random.sample(range(50),10)\n",
    "b = random.sample(range(50),10)\n",
    "\n",
    "print( list( set(a) & set(b) ) )"
   ]
  },
  {
   "cell_type": "markdown",
   "metadata": {},
   "source": [
    "### Exercise 6: String Lists\n",
    "\n",
    "Ask the user for a string and print out whether this string is a palindrome or not. (A palindrome is a string that reads the same forwards and backwards.)\n",
    "\n",
    "Concepts:\n",
    "* List indexing\n",
    "* Strings are lists\n"
   ]
  },
  {
   "cell_type": "code",
   "execution_count": 1,
   "metadata": {
    "collapsed": false
   },
   "outputs": [
    {
     "name": "stdout",
     "output_type": "stream",
     "text": [
      "Please input a string :Hello\n",
      "Hello is not a palindrome\n",
      "Please input a string :alula\n",
      "alula is a palindrome!\n",
      "Please input a string :racecar\n",
      "racecar is a palindrome!\n",
      "Please input a string :quit\n"
     ]
    }
   ],
   "source": [
    "while 1==1:\n",
    "    a = input('Please input a string :')\n",
    "    \n",
    "    for i in a:\n",
    "        b = a[::-1]\n",
    "        \n",
    "    if a == 'quit':\n",
    "        break\n",
    "    elif a == b and len(a) > 1:\n",
    "        print('{} is a palindrome!'.format(a))\n",
    "    else:\n",
    "        print('{} is not a palindrome'.format(a))"
   ]
  },
  {
   "cell_type": "markdown",
   "metadata": {},
   "source": [
    "### Exercise 7: List Comprehensions\n",
    "\n",
    "Let’s say I give you a list saved in a variable: \n",
    "\n",
    "a = [1, 4, 9, 16, 25, 36, 49, 64, 81, 100]. \n",
    "\n",
    "Write one line of Python that takes this list a and makes a new list that has only the even elements of this list in it.\n",
    "\n",
    "Concept:\n",
    "* List comprehensions"
   ]
  },
  {
   "cell_type": "code",
   "execution_count": 9,
   "metadata": {
    "collapsed": false
   },
   "outputs": [
    {
     "name": "stdout",
     "output_type": "stream",
     "text": [
      "[4, 16, 36, 64, 100]\n"
     ]
    }
   ],
   "source": [
    "a = [1, 4, 9, 16, 25, 36, 49, 64, 81, 100]\n",
    "\n",
    "print ( [i for i in a if i % 2 == 0] )"
   ]
  },
  {
   "cell_type": "markdown",
   "metadata": {},
   "source": [
    "### Exercise 8: Rock Paper Scissors\n",
    "\n",
    "Make a two-player Rock-Paper-Scissors game. (Hint: Ask for player plays (using input), compare them, print out a message of congratulations to the winner, and ask if the players want to start a new game)\n",
    "\n",
    "Concepts:\n",
    "\n",
    "* While loops\n",
    "* Infinite loops\n",
    "* Break statements\n"
   ]
  },
  {
   "cell_type": "code",
   "execution_count": null,
   "metadata": {
    "collapsed": true
   },
   "outputs": [],
   "source": []
  },
  {
   "cell_type": "markdown",
   "metadata": {},
   "source": [
    "### Exercise 9: Guessing Game One\n",
    "\n",
    "Generate a random number between 1 and 9 (including 1 and 9). Ask the user to guess the number, then tell them whether they guessed too low, too high, or exactly right. \n",
    "\n",
    "Extras:\n",
    "\n",
    "* Keep the game going until the user types “exit”\n",
    "* Keep track of how many guesses the user has taken, and when the game ends, print this out.\n",
    "\n",
    "\n",
    "Concepts:\n",
    "\n",
    "* Modules\n",
    "* Random numbers\n",
    "* User input\n"
   ]
  },
  {
   "cell_type": "code",
   "execution_count": 44,
   "metadata": {
    "collapsed": false
   },
   "outputs": [
    {
     "name": "stdout",
     "output_type": "stream",
     "text": [
      "Please insert any number from 1 to 9: 8\n",
      "You guessed too high\n",
      "Please insert any number from 1 to 9: 6\n",
      "You guessed too high\n",
      "Please insert any number from 1 to 9: 4\n",
      "You guessed too high\n",
      "Please insert any number from 1 to 9: 2\n",
      "You guessed too low\n",
      "Please insert any number from 1 to 9: 3\n",
      "You guessed correct!\n",
      "You have guessed 5 times!\n"
     ]
    }
   ],
   "source": [
    "import random\n",
    "\n",
    "random_number = random.randint(1,9) \n",
    "guess = 0\n",
    "while True:\n",
    "    number =( input('Please insert any number from 1 to 9: ') )\n",
    "    guess += 1\n",
    "    if number == 'exit':\n",
    "        break      \n",
    "    if random_number == int(number):\n",
    "        print('You guessed correct!')    \n",
    "        print('You have guessed {} times!'.format(guess))\n",
    "        break\n",
    "    elif random_number >  int(number):\n",
    "        print('You guessed too low')\n",
    "        continue\n",
    "    elif random_number <  int(number):\n",
    "        print('You guessed too high')\n",
    "        continue"
   ]
  },
  {
   "cell_type": "markdown",
   "metadata": {},
   "source": [
    "### Exercise 10: List Overlap Comprehensions\n",
    "\n",
    "Take two lists, say for example these two:\n",
    "\n",
    "\ta = [1, 1, 2, 3, 5, 8, 13, 21, 34, 55, 89]\n",
    "\tb = [1, 2, 3, 4, 5, 6, 7, 8, 9, 10, 11, 12, 13]\n",
    "\n",
    "and write a program that returns a list that contains only the elements that are common between the lists (without duplicates). Make sure your program works on two lists of different sizes.\n",
    "\n",
    "Extra:\n",
    "\n",
    "* Randomly generate two lists to test this\n",
    "\n",
    "Concepts\n",
    "\n",
    "* List comprehensions\n",
    "* Random numbers, continued\n"
   ]
  },
  {
   "cell_type": "code",
   "execution_count": 17,
   "metadata": {
    "collapsed": false
   },
   "outputs": [
    {
     "name": "stdout",
     "output_type": "stream",
     "text": [
      "[7, 9, 2]\n"
     ]
    }
   ],
   "source": [
    "import random \n",
    "\n",
    "#a = [1, 1, 2, 3, 5, 8, 13, 21, 34, 55, 89]\n",
    "#b = [1, 2, 3, 4, 5, 6, 7, 8, 9, 10, 11, 12, 13]\n",
    "\n",
    "random.seed(110)\n",
    "\n",
    "# randomly generated lists\n",
    "a = [] \n",
    "for i in range(1, random.randint(1,9)):\n",
    "    a.append( random.randint(1,9) )\n",
    "\n",
    "b = [] \n",
    "for i in range(1, random.randint(1,9)):\n",
    "    b.append( random.randint(1,9) )\n",
    "\n",
    "# print similar numbers from list a and b\n",
    "numbers = []\n",
    "for i in a:\n",
    "    for j in b:\n",
    "        if i == j and i not in numbers:\n",
    "            numbers.append(i)\n",
    "\n",
    "print(numbers)"
   ]
  },
  {
   "cell_type": "code",
   "execution_count": 16,
   "metadata": {
    "collapsed": false
   },
   "outputs": [
    {
     "name": "stdout",
     "output_type": "stream",
     "text": [
      "[4, 6, 15, 23, 28]\n"
     ]
    }
   ],
   "source": [
    "# in one line\n",
    "random.seed(100)\n",
    "\n",
    "a = random.sample(range(1,30), 12)\n",
    "b = random.sample(range(1,30), 16)\n",
    "result = [i for i in set(a) if i in b]\n",
    "print(result)\n",
    "\n"
   ]
  },
  {
   "cell_type": "markdown",
   "metadata": {
    "collapsed": true
   },
   "source": [
    "### Exercise 11: Check Primality Functions\n",
    "\n",
    "Ask the user for a number and determine whether the number is prime or not. (For those who have forgotten, a prime number is a number that has no divisors.). You can (and should!) use your answer to Exercise 4 to help you. Take this opportunity to practice using functions, described below.\n",
    "\n",
    "Concepts:\n",
    "\n",
    "* Functions\n",
    "* Reusable functions\n",
    "* Default arguments\n"
   ]
  },
  {
   "cell_type": "code",
   "execution_count": 28,
   "metadata": {
    "collapsed": false
   },
   "outputs": [
    {
     "name": "stdout",
     "output_type": "stream",
     "text": [
      "Number: 11\n"
     ]
    },
    {
     "data": {
      "text/plain": [
       "'11 is a prime number'"
      ]
     },
     "execution_count": 28,
     "metadata": {},
     "output_type": "execute_result"
    }
   ],
   "source": [
    "number = int(input('Number: '))\n",
    "\n",
    "# check_divisors(number) # from exercise 4 \n",
    "# using this function to check for 2 positive divisor\n",
    "# 1 is not a prime because it does not have 2 positive divisor; only one\n",
    "\n",
    "def check_prime(number):\n",
    "    if len(check_divisors(number)) > 2 or number == 1:\n",
    "        return ('{} is not a prime number'.format(number))\n",
    "    else:\n",
    "        return ('{} is a prime number'.format(number))\n",
    "\n",
    "check_prime(number)    "
   ]
  },
  {
   "cell_type": "markdown",
   "metadata": {},
   "source": [
    "### Exercise 12: List Ends\n",
    "\n",
    "Write a program that takes a list of numbers (for example, a = [5, 10, 15, 20, 25]) and makes a new list of only the first and last elements of the given list. For practice, write this code inside a function.\n",
    "\n",
    "Concepte:\n",
    "\n",
    "* Lists and properties of lists\n",
    "* List comprehensions (maybe)\n",
    "* Functions\n"
   ]
  },
  {
   "cell_type": "code",
   "execution_count": 31,
   "metadata": {
    "collapsed": false
   },
   "outputs": [
    {
     "data": {
      "text/plain": [
       "[5, 25]"
      ]
     },
     "execution_count": 31,
     "metadata": {},
     "output_type": "execute_result"
    }
   ],
   "source": [
    "a = [5, 10, 15, 20, 25]\n",
    "\n",
    " \n",
    "def list_in_list(a):\n",
    "    b = []\n",
    "    b.append(a[0])\n",
    "    b.append(a[-1])\n",
    "    return (b)\n",
    "\n",
    "list_in_list(a)"
   ]
  },
  {
   "cell_type": "code",
   "execution_count": 33,
   "metadata": {
    "collapsed": false
   },
   "outputs": [
    {
     "data": {
      "text/plain": [
       "[5, 25]"
      ]
     },
     "execution_count": 33,
     "metadata": {},
     "output_type": "execute_result"
    }
   ],
   "source": [
    "# more efficient code\n",
    "\n",
    "def list_ends(a_list):\n",
    "    return [a_list[0], a_list[len(a_list)-1]]\n",
    "\n",
    "list_ends(a)"
   ]
  },
  {
   "cell_type": "markdown",
   "metadata": {},
   "source": [
    "### Exercise 13: Fibonacci\n",
    "\n",
    "Write a program that asks the user how many Fibonnaci numbers to generate and then generates them. Take this opportunity to think about how you can use functions. Make sure to ask the user to enter the number of numbers in the sequence to generate.\n",
    "\n",
    "(Hint: The Fibonnaci seqence is a sequence of numbers where the next number in the sequence is the sum of the previous two numbers in the sequence. \n",
    "\n",
    "The sequence looks like this: 1, 1, 2, 3, 5, 8, 13, …)"
   ]
  },
  {
   "cell_type": "code",
   "execution_count": 40,
   "metadata": {
    "collapsed": false
   },
   "outputs": [
    {
     "name": "stdout",
     "output_type": "stream",
     "text": [
      "How many Fibonacci numbers would you like to see?: 11\n",
      "[0, 1, 1, 2, 3, 5, 8, 13, 21, 34, 55]\n"
     ]
    }
   ],
   "source": [
    "length = int(input('How many Fibonacci numbers would you like to see?: '))\n",
    "\n",
    "def fibo_num( length ):\n",
    "    a = [0,1]\n",
    "    if length == 1:\n",
    "        print ([a[0]])\n",
    "    elif length == 2:\n",
    "        print (a)\n",
    "    elif length > 2:\n",
    "        for i in range(0, length):\n",
    "            b = a[i] + a[i+1]\n",
    "            a.append(b)\n",
    "        print (a[:length])\n",
    "    else:\n",
    "        print ('Please insert a positive number higher than 0')\n",
    "        \n",
    "fibo_num( length )\n"
   ]
  },
  {
   "cell_type": "markdown",
   "metadata": {},
   "source": [
    "### Exercise 14: List Remove Duplicates\n",
    "\n",
    "Write a program (function!) that takes a list and returns a new list that contains all the elements of the first list minus all the duplicates.\n",
    "\n",
    "Extras:\n",
    "\n",
    "* Write two different functions to do this - one using a loop and constructing a list, and another using sets.\n",
    "* Go back and do Exercise 5 using sets, and write the solution for that in a different function.\n",
    "\n",
    "\n",
    "Concepts:\n",
    "\n",
    "* Sets"
   ]
  },
  {
   "cell_type": "code",
   "execution_count": null,
   "metadata": {
    "collapsed": true
   },
   "outputs": [],
   "source": []
  }
 ],
 "metadata": {
  "anaconda-cloud": {},
  "kernelspec": {
   "display_name": "Python [Root]",
   "language": "python",
   "name": "Python [Root]"
  },
  "language_info": {
   "codemirror_mode": {
    "name": "ipython",
    "version": 3
   },
   "file_extension": ".py",
   "mimetype": "text/x-python",
   "name": "python",
   "nbconvert_exporter": "python",
   "pygments_lexer": "ipython3",
   "version": "3.5.1"
  }
 },
 "nbformat": 4,
 "nbformat_minor": 0
}
